{
 "cells": [
  {
   "cell_type": "code",
   "execution_count": 1,
   "metadata": {},
   "outputs": [
    {
     "name": "stderr",
     "output_type": "stream",
     "text": [
      "/Users/alec/.pyenv/versions/3.6.2/lib/python3.6/site-packages/requests/__init__.py:80: RequestsDependencyWarning: urllib3 (1.24.1) or chardet (3.0.4) doesn't match a supported version!\n",
      "  RequestsDependencyWarning)\n"
     ]
    }
   ],
   "source": [
    "from bs4 import BeautifulSoup\n",
    "import json\n",
    "import requests\n",
    "import lxml.html as lh\n",
    "import pandas as pd\n",
    "import re"
   ]
  },
  {
   "cell_type": "code",
   "execution_count": 2,
   "metadata": {},
   "outputs": [],
   "source": [
    "def clean(txt):\n",
    "    return re.sub(\n",
    "        r\"[\\s\\r\\n]\",\n",
    "        \"\",\n",
    "        txt\n",
    "    )"
   ]
  },
  {
   "cell_type": "code",
   "execution_count": 3,
   "metadata": {},
   "outputs": [],
   "source": [
    "NBSP = u'\\xa0'\n",
    "BOROS = [\n",
    "    'New York',\n",
    "    'Bronx',\n",
    "    'Kings',\n",
    "    'Queens',\n",
    "    'Richmond'\n",
    "]"
   ]
  },
  {
   "cell_type": "code",
   "execution_count": 4,
   "metadata": {},
   "outputs": [],
   "source": [
    "def get_url_boro(boro_num):\n",
    "    return 'https://web.enrboenyc.us/CD22509AD'+str(boro_num)+'.html'"
   ]
  },
  {
   "cell_type": "code",
   "execution_count": 5,
   "metadata": {},
   "outputs": [],
   "source": [
    "def get_url_ad_boro(ad_num, boro_num):\n",
    "    return 'https://web.enrboenyc.us/CD22509AD'+str(ad_num)+str(boro_num)+'.html'"
   ]
  },
  {
   "cell_type": "code",
   "execution_count": 6,
   "metadata": {},
   "outputs": [],
   "source": [
    "def get_table(url):\n",
    "    page = requests.get(url)\n",
    "    doc = lh.fromstring(page.content)\n",
    "    return doc.xpath('//table')[2]"
   ]
  },
  {
   "cell_type": "code",
   "execution_count": 7,
   "metadata": {},
   "outputs": [],
   "source": [
    "def get_ads_in_boro(table):\n",
    "    ads_in_boro = []\n",
    "    for tr in table:\n",
    "        txt = clean(tr[0].text_content())\n",
    "        if txt != NBSP:\n",
    "            ads_in_boro.append(txt)\n",
    "    return ads_in_boro[2:-1]"
   ]
  },
  {
   "cell_type": "code",
   "execution_count": 8,
   "metadata": {},
   "outputs": [],
   "source": [
    "def get_all_ads_in_boros():\n",
    "    city = []\n",
    "    for (i,v) in enumerate(BOROS):\n",
    "        table = get_table(get_url_boro(i+1))\n",
    "        ads_in_boro = get_ads_in_boro(table)\n",
    "        city.append(ads_in_boro)\n",
    "    return city"
   ]
  },
  {
   "cell_type": "code",
   "execution_count": 9,
   "metadata": {},
   "outputs": [],
   "source": [
    "def get_eds_in_ad(table, ad_name, boro_name):\n",
    "    cands = []\n",
    "    ad = []\n",
    "    \n",
    "    for td in table[0][2:-1]:\n",
    "        cand = td.text_content()\n",
    "        if cand != NBSP:\n",
    "            cands.append(cand)\n",
    "\n",
    "\n",
    "    for tr in table[2:-1]:\n",
    "        ed_row = []\n",
    "        for td in tr:\n",
    "            txt = clean(td.text_content())\n",
    "            if txt != NBSP and txt != '':\n",
    "                ed_row.append(txt)\n",
    "        ed = ed_row[0] ## get ED number\n",
    "        for (i, result) in enumerate(ed_row[2:]): ## skip % reported column\n",
    "            ad.append([boro_name, ad_name, ed, cands[i], int(result.replace('-','0'))])\n",
    "            \n",
    "    return ad"
   ]
  },
  {
   "cell_type": "code",
   "execution_count": 12,
   "metadata": {},
   "outputs": [],
   "source": [
    "def get_all_eds_in_ads_in_boros():\n",
    "    all_eds = []\n",
    "    city = get_all_ads_in_boros()\n",
    "    for (i, ads_in_boro) in enumerate(city):\n",
    "        print('starting boro: ', i+1)\n",
    "        for ad in ads_in_boro:\n",
    "            print('scraping ad:', ad)\n",
    "            table = get_table(get_url_ad_boro(ad[2:4], i+1))\n",
    "            eds_in_ad = get_eds_in_ad(table, ad, BOROS[i])\n",
    "            all_eds = all_eds + eds_in_ad\n",
    "    return all_eds"
   ]
  },
  {
   "cell_type": "code",
   "execution_count": 14,
   "metadata": {},
   "outputs": [
    {
     "name": "stdout",
     "output_type": "stream",
     "text": [
      "starting boro:  1\n",
      "scraping ad: AD65\n",
      "scraping ad: AD66\n",
      "scraping ad: AD67\n",
      "scraping ad: AD68\n",
      "scraping ad: AD69\n",
      "scraping ad: AD70\n",
      "scraping ad: AD71\n",
      "scraping ad: AD72\n",
      "scraping ad: AD73\n",
      "scraping ad: AD74\n",
      "scraping ad: AD75\n",
      "scraping ad: AD76\n",
      "starting boro:  2\n",
      "scraping ad: AD77\n",
      "scraping ad: AD78\n",
      "scraping ad: AD79\n",
      "scraping ad: AD80\n",
      "scraping ad: AD81\n",
      "scraping ad: AD82\n",
      "scraping ad: AD83\n",
      "scraping ad: AD84\n",
      "scraping ad: AD85\n",
      "scraping ad: AD86\n",
      "scraping ad: AD87\n",
      "starting boro:  3\n",
      "scraping ad: AD41\n",
      "scraping ad: AD42\n",
      "scraping ad: AD43\n",
      "scraping ad: AD44\n",
      "scraping ad: AD45\n",
      "scraping ad: AD46\n",
      "scraping ad: AD47\n",
      "scraping ad: AD48\n",
      "scraping ad: AD49\n",
      "scraping ad: AD50\n",
      "scraping ad: AD51\n",
      "scraping ad: AD52\n",
      "scraping ad: AD53\n",
      "scraping ad: AD54\n",
      "scraping ad: AD55\n",
      "scraping ad: AD56\n",
      "scraping ad: AD57\n",
      "scraping ad: AD58\n",
      "scraping ad: AD59\n",
      "scraping ad: AD60\n",
      "scraping ad: AD64\n",
      "starting boro:  4\n",
      "scraping ad: AD23\n",
      "scraping ad: AD24\n",
      "scraping ad: AD25\n",
      "scraping ad: AD26\n",
      "scraping ad: AD27\n",
      "scraping ad: AD28\n",
      "scraping ad: AD29\n",
      "scraping ad: AD30\n",
      "scraping ad: AD31\n",
      "scraping ad: AD32\n",
      "scraping ad: AD33\n",
      "scraping ad: AD34\n",
      "scraping ad: AD35\n",
      "scraping ad: AD36\n",
      "scraping ad: AD37\n",
      "scraping ad: AD38\n",
      "scraping ad: AD39\n",
      "scraping ad: AD40\n",
      "starting boro:  5\n",
      "scraping ad: AD61\n",
      "scraping ad: AD62\n",
      "scraping ad: AD63\n",
      "scraping ad: AD64\n"
     ]
    }
   ],
   "source": [
    "raw_data = get_all_eds_in_ads_in_boros()"
   ]
  },
  {
   "cell_type": "code",
   "execution_count": 15,
   "metadata": {},
   "outputs": [],
   "source": [
    "data = pd.DataFrame(raw_data, columns=['County','AD','ED','Name','Votes'])\n",
    "data.to_csv('./data/data.csv', index=False)"
   ]
  }
 ],
 "metadata": {
  "kernelspec": {
   "display_name": "Python 3",
   "language": "python",
   "name": "python3"
  },
  "language_info": {
   "codemirror_mode": {
    "name": "ipython",
    "version": 3
   },
   "file_extension": ".py",
   "mimetype": "text/x-python",
   "name": "python",
   "nbconvert_exporter": "python",
   "pygments_lexer": "ipython3",
   "version": "3.6.2"
  }
 },
 "nbformat": 4,
 "nbformat_minor": 2
}
