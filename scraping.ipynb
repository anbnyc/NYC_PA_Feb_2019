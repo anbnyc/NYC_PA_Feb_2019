{
 "cells": [
  {
   "cell_type": "code",
   "execution_count": 46,
   "metadata": {},
   "outputs": [],
   "source": [
    "from bs4 import BeautifulSoup\n",
    "import json\n",
    "import requests\n",
    "import lxml.html as lh\n",
    "import pandas as pd\n",
    "import re"
   ]
  },
  {
   "cell_type": "code",
   "execution_count": 47,
   "metadata": {},
   "outputs": [],
   "source": [
    "def clean(txt):\n",
    "    return re.sub(\n",
    "        r\"[\\s\\r\\n]\",\n",
    "        \"\",\n",
    "        txt\n",
    "    )"
   ]
  },
  {
   "cell_type": "code",
   "execution_count": 48,
   "metadata": {},
   "outputs": [],
   "source": [
    "NBSP = u'\\xa0'\n",
    "BOROS = [\n",
    "    'New York',\n",
    "    'Bronx',\n",
    "    'Kings',\n",
    "    'Queens',\n",
    "    'Richmond'\n",
    "]"
   ]
  },
  {
   "cell_type": "code",
   "execution_count": 49,
   "metadata": {},
   "outputs": [],
   "source": [
    "def get_url_boro(boro_num):\n",
    "    return 'https://web.enrboenyc.us/CD22509AD'+str(boro_num)+'.html'"
   ]
  },
  {
   "cell_type": "code",
   "execution_count": 50,
   "metadata": {},
   "outputs": [],
   "source": [
    "def get_url_ad_boro(ad_num, boro_num):\n",
    "    return 'https://web.enrboenyc.us/CD22509AD'+str(ad_num)+str(boro_num)+'.html'"
   ]
  },
  {
   "cell_type": "code",
   "execution_count": 51,
   "metadata": {},
   "outputs": [],
   "source": [
    "def get_table(url):\n",
    "    page = requests.get(url)\n",
    "    doc = lh.fromstring(page.content)\n",
    "    return doc.xpath('//table')[2]"
   ]
  },
  {
   "cell_type": "code",
   "execution_count": 52,
   "metadata": {},
   "outputs": [],
   "source": [
    "def get_ads_in_boro(table):\n",
    "    ads_in_boro = []\n",
    "    for tr in table:\n",
    "        txt = clean(tr[0].text_content())\n",
    "        if txt != NBSP:\n",
    "            ads_in_boro.append(txt)\n",
    "    return ads_in_boro[2:-1]"
   ]
  },
  {
   "cell_type": "code",
   "execution_count": 53,
   "metadata": {},
   "outputs": [],
   "source": [
    "def get_all_ads_in_boros():\n",
    "    city = []\n",
    "    for (i,v) in enumerate(BOROS):\n",
    "        table = get_table(get_url_boro(i+1))\n",
    "        ads_in_boro = get_ads_in_boro(table)\n",
    "        city.append(ads_in_boro)\n",
    "    return city"
   ]
  },
  {
   "cell_type": "code",
   "execution_count": 54,
   "metadata": {},
   "outputs": [],
   "source": [
    "def get_eds_in_ad(table, ad_name, boro_name):\n",
    "    cands = []\n",
    "    ad = []\n",
    "    \n",
    "    for td in table[0][2:-1]:\n",
    "        cand = td.text_content()\n",
    "        if cand != NBSP:\n",
    "            cands.append(cand)\n",
    "\n",
    "\n",
    "    for tr in table[2:-1]:\n",
    "        ed_row = []\n",
    "        for td in tr:\n",
    "            txt = clean(td.text_content())\n",
    "            if txt != NBSP and txt != '':\n",
    "                ed_row.append(txt)\n",
    "        ed = ed_row[0] ## get ED number\n",
    "        for (i, result) in enumerate(ed_row[2:]): ## skip % reported column\n",
    "            ad.append([boro_name, ad_name, ed, cands[i], int(result.replace('-','0'))])\n",
    "            \n",
    "    return ad"
   ]
  },
  {
   "cell_type": "code",
   "execution_count": 55,
   "metadata": {},
   "outputs": [],
   "source": [
    "def get_all_eds_in_ads_in_boros():\n",
    "    all_eds = []\n",
    "    city = get_all_ads_in_boros()\n",
    "    for (i, ads_in_boro) in enumerate(city):\n",
    "#         print('starting boro: ', i+1)\n",
    "        for ad in ads_in_boro:\n",
    "#             print('scraping ad:', ad)\n",
    "            table = get_table(get_url_ad_boro(ad[2:4], i+1))\n",
    "            eds_in_ad = get_eds_in_ad(table, ad, BOROS[i])\n",
    "            all_eds = all_eds + eds_in_ad\n",
    "    return all_eds"
   ]
  },
  {
   "cell_type": "code",
   "execution_count": 56,
   "metadata": {},
   "outputs": [],
   "source": [
    "raw_data = get_all_eds_in_ads_in_boros()"
   ]
  },
  {
   "cell_type": "code",
   "execution_count": 58,
   "metadata": {},
   "outputs": [],
   "source": [
    "data = pd.DataFrame(raw_data, columns=['County','AD','ED','Name','Votes'])\n",
    "data.to_csv('./data.csv', index=False)"
   ]
  }
 ],
 "metadata": {
  "kernelspec": {
   "display_name": "Python 3",
   "language": "python",
   "name": "python3"
  },
  "language_info": {
   "codemirror_mode": {
    "name": "ipython",
    "version": 3
   },
   "file_extension": ".py",
   "mimetype": "text/x-python",
   "name": "python",
   "nbconvert_exporter": "python",
   "pygments_lexer": "ipython3",
   "version": "3.6.2"
  }
 },
 "nbformat": 4,
 "nbformat_minor": 2
}
